WIP
https://github.com/dkprabu/customer_pos_analytics/blob/master/Customer%20Promotion%20POS%20V2.ipynb
